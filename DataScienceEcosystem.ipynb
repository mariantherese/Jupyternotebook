{
 "cells": [
  {
   "cell_type": "markdown",
   "id": "f1c350fc-febf-47a9-b954-74e29f2aecab",
   "metadata": {},
   "source": [
    "# Data Science Tools and Ecosystem"
   ]
  },
  {
   "cell_type": "markdown",
   "id": "9ef75b23-45ae-4712-b44d-ccb54511a2bc",
   "metadata": {},
   "source": [
    "In this notebook, Data Science Tools and Ecosystem are summarized."
   ]
  },
  {
   "cell_type": "markdown",
   "id": "296693a0-149f-4b25-ad93-eb224bd0720b",
   "metadata": {},
   "source": [
    "**Objectives**"
   ]
  },
  {
   "cell_type": "markdown",
   "id": "76917789-624d-4e02-a942-8f1910fe6b1d",
   "metadata": {},
   "source": [
    "- Popular Languages in Data Science\n",
    "- Categories of Data Science Tools\n",
    "- Libraries for Data Science"
   ]
  },
  {
   "cell_type": "markdown",
   "id": "29991e64-5e81-4075-8c2f-ef2d0e5de6f6",
   "metadata": {},
   "source": [
    "Some of the popular languages that Data Scientists use are:\n",
    "- Python\n",
    "- R\n",
    "- Scala"
   ]
  },
  {
   "cell_type": "markdown",
   "id": "4083f12e-993b-4b9c-b8bb-9378e84108f4",
   "metadata": {},
   "source": [
    "Some of the commonly used libraries used by Data Scientists include:\n",
    "- Numpy\n",
    "- SciPy\n",
    "- Pandas"
   ]
  },
  {
   "cell_type": "markdown",
   "id": "0671b279-0f7f-4ef7-b07f-cc873dfec2b8",
   "metadata": {},
   "source": [
    "\n",
    "\n",
    "|Data Science Tools|\n",
    "|------|\n",
    "|Apache Spark|\n",
    "|Tableau|\n",
    "|Matplotlib|"
   ]
  },
  {
   "cell_type": "markdown",
   "id": "ecf63ead-dc7a-42d5-a9bb-5eb9368c622f",
   "metadata": {},
   "source": [
    "### Below are a few examples of evaluating arithmetic expressions in Python"
   ]
  },
  {
   "cell_type": "markdown",
   "id": "9fc4db0d-f7db-4782-8ffc-7d05e7ef530e",
   "metadata": {},
   "source": [
    "<!-- This a simple arithmetic expression to multiply then add integers -->\n"
   ]
  },
  {
   "cell_type": "code",
   "execution_count": null,
   "id": "265a8635-dac0-451d-9ebd-835c58192a55",
   "metadata": {},
   "outputs": [],
   "source": [
    "# This a simple arithmetic expression to mutiply then add integers"
   ]
  },
  {
   "cell_type": "markdown",
   "id": "4651df62-0542-4d85-ab1f-3aafdcc28d8a",
   "metadata": {},
   "source": [
    "<!-- (3*4)+5 -->"
   ]
  },
  {
   "cell_type": "code",
   "execution_count": 3,
   "id": "070f4e52-2cc4-46a2-b908-5976b7108046",
   "metadata": {
    "tags": []
   },
   "outputs": [
    {
     "data": {
      "text/plain": [
       "17"
      ]
     },
     "execution_count": 3,
     "metadata": {},
     "output_type": "execute_result"
    }
   ],
   "source": [
    "(3*4)+5"
   ]
  },
  {
   "cell_type": "code",
   "execution_count": null,
   "id": "3c5ae30b-927b-4ec7-868d-002bd7bf154f",
   "metadata": {},
   "outputs": [],
   "source": [
    "# This will convert 200 minutes to hours by diving by 60"
   ]
  },
  {
   "cell_type": "code",
   "execution_count": 5,
   "id": "34affd37-b356-4fe6-9281-64ddc8189a49",
   "metadata": {
    "tags": []
   },
   "outputs": [
    {
     "data": {
      "text/plain": [
       "3.3333333333333335"
      ]
     },
     "execution_count": 5,
     "metadata": {},
     "output_type": "execute_result"
    }
   ],
   "source": [
    "200/60"
   ]
  },
  {
   "cell_type": "markdown",
   "id": "4c9f2bf5-6f1d-4cd0-9d21-4b1f5d3fd354",
   "metadata": {},
   "source": [
    "## Author"
   ]
  },
  {
   "cell_type": "markdown",
   "id": "b26d6e9f-72a6-42fd-bf20-d752fc574bcb",
   "metadata": {},
   "source": [
    "Marian Therese Makisig"
   ]
  }
 ],
 "metadata": {
  "kernelspec": {
   "display_name": "Python",
   "language": "python",
   "name": "conda-env-python-py"
  },
  "language_info": {
   "codemirror_mode": {
    "name": "ipython",
    "version": 3
   },
   "file_extension": ".py",
   "mimetype": "text/x-python",
   "name": "python",
   "nbconvert_exporter": "python",
   "pygments_lexer": "ipython3",
   "version": "3.7.12"
  }
 },
 "nbformat": 4,
 "nbformat_minor": 5
}
